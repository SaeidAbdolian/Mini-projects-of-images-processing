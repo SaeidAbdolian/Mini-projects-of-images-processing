{
  "nbformat": 4,
  "nbformat_minor": 0,
  "metadata": {
    "colab": {
      "name": "GLCM.ipynb",
      "provenance": [],
      "authorship_tag": "ABX9TyPfuknVYY6bQHBAmzvzSKb+",
      "include_colab_link": true
    },
    "kernelspec": {
      "name": "python3",
      "display_name": "Python 3"
    }
  },
  "cells": [
    {
      "cell_type": "markdown",
      "metadata": {
        "id": "view-in-github",
        "colab_type": "text"
      },
      "source": [
        "<a href=\"https://colab.research.google.com/github/SaeidAbdolian/Mini-projects-of-images-processing/blob/main/GLCM/GLCM.ipynb\" target=\"_parent\"><img src=\"https://colab.research.google.com/assets/colab-badge.svg\" alt=\"Open In Colab\"/></a>"
      ]
    },
    {
      "cell_type": "markdown",
      "metadata": {
        "id": "dLKQjvb2aS1Y"
      },
      "source": [
        "**Texture Analysis Using the Gray-Level Co-Occurrence Matrix (GLCM)**\n"
      ]
    },
    {
      "cell_type": "markdown",
      "metadata": {
        "id": "sOKKS4laaH5X"
      },
      "source": [
        "A statistical method of examining texture that considers the spatial relationship of pixels is the gray-level co-occurrence matrix (GLCM), also known as the gray-level spatial dependence matrix. The GLCM functions characterize the texture of an image by calculating how often pairs of pixel with specific values and in a specified spatial relationship occur in an image, creating a GLCM, and then extracting statistical measures from this matrix. (The texture filter functions, described in Calculate Statistical Measures of Texture cannot provide information about shape, that is, the spatial relationships of pixels in an image.)\n",
        "\n",
        "After you create the GLCMs using graycomatrix, you can derive several statistics from them using graycoprops. These statistics provide information about the texture of an image.\n"
      ]
    },
    {
      "cell_type": "code",
      "metadata": {
        "id": "x3zBWWw51Ldg"
      },
      "source": [
        "import random\n",
        "import math\n",
        "import functools\n",
        "import numpy as np\n",
        "import cv2 as cv\n",
        "import matplotlib.pyplot as plt"
      ],
      "execution_count": 1,
      "outputs": []
    },
    {
      "cell_type": "code",
      "metadata": {
        "colab": {
          "base_uri": "https://localhost:8080/"
        },
        "id": "0Y5LXVSc1fHG",
        "outputId": "0f5bacec-b8ec-48a8-8412-ffa02bf65e34"
      },
      "source": [
        "!wget \"https://i.pinimg.com/originals/46/36/d3/4636d34f40f37a4bf056bd373e25afd4.jpg\" -O AMOL_IRAN.jpg"
      ],
      "execution_count": 63,
      "outputs": [
        {
          "output_type": "stream",
          "text": [
            "--2020-11-21 19:10:47--  https://i.pinimg.com/originals/46/36/d3/4636d34f40f37a4bf056bd373e25afd4.jpg\n",
            "Resolving i.pinimg.com (i.pinimg.com)... 184.24.40.200, 2600:1402:2000:393::1931, 2600:1402:2000:3a1::1931, ...\n",
            "Connecting to i.pinimg.com (i.pinimg.com)|184.24.40.200|:443... connected.\n",
            "HTTP request sent, awaiting response... 200 OK\n",
            "Length: 142536 (139K) [image/jpeg]\n",
            "Saving to: ‘AMOL_IRAN.jpg’\n",
            "\n",
            "\rAMOL_IRAN.jpg         0%[                    ]       0  --.-KB/s               \rAMOL_IRAN.jpg       100%[===================>] 139.20K  --.-KB/s    in 0.03s   \n",
            "\n",
            "2020-11-21 19:10:47 (4.17 MB/s) - ‘AMOL_IRAN.jpg’ saved [142536/142536]\n",
            "\n"
          ],
          "name": "stdout"
        }
      ]
    },
    {
      "cell_type": "code",
      "metadata": {
        "id": "68los2aX1htC"
      },
      "source": [
        "img = cv.imread('./AMOL_IRAN.jpg')\n",
        "img = np.array(img)"
      ],
      "execution_count": 73,
      "outputs": []
    },
    {
      "cell_type": "code",
      "metadata": {
        "id": "hcC5w1_ZMgzY"
      },
      "source": [
        "img = cv.resize(img, (200,200), interpolation = cv.INTER_AREA)"
      ],
      "execution_count": 74,
      "outputs": []
    },
    {
      "cell_type": "code",
      "metadata": {
        "id": "klcoUS9n1i19"
      },
      "source": [
        "if len(img.shape) == 3:\n",
        "    img = cv.cvtColor(img, cv.COLOR_BGR2GRAY)\n",
        "img = np.array(img)\n",
        "displacement = [0,1]\n",
        "IMAGE_SIZE = img.shape[0]"
      ],
      "execution_count": 75,
      "outputs": []
    },
    {
      "cell_type": "code",
      "metadata": {
        "id": "siMMeEZn1wrT"
      },
      "source": [
        "glcm = [[0 for _ in range(256)] for _ in range(256)]"
      ],
      "execution_count": 76,
      "outputs": []
    },
    {
      "cell_type": "code",
      "metadata": {
        "colab": {
          "base_uri": "https://localhost:8080/"
        },
        "id": "a3Wphfz06z1_",
        "outputId": "8e0d9355-76be-40c2-cf84-6fcfb82dd0c4"
      },
      "source": [
        "rowmax"
      ],
      "execution_count": 77,
      "outputs": [
        {
          "output_type": "execute_result",
          "data": {
            "text/plain": [
              "799"
            ]
          },
          "metadata": {
            "tags": []
          },
          "execution_count": 77
        }
      ]
    },
    {
      "cell_type": "code",
      "metadata": {
        "colab": {
          "base_uri": "https://localhost:8080/"
        },
        "id": "qOyShOPc6sES",
        "outputId": "04e37c3c-1767-404e-aa96-b9c00e7db0a2"
      },
      "source": [
        "IMAGE_SIZE\n"
      ],
      "execution_count": 78,
      "outputs": [
        {
          "output_type": "execute_result",
          "data": {
            "text/plain": [
              "200"
            ]
          },
          "metadata": {
            "tags": []
          },
          "execution_count": 78
        }
      ]
    },
    {
      "cell_type": "code",
      "metadata": {
        "id": "82GKeM_M1zvo"
      },
      "source": [
        "rowmax = IMAGE_SIZE - displacement[0] if displacement[0] else IMAGE_SIZE -1\n",
        "colmax = IMAGE_SIZE - displacement[1] if displacement[1] else IMAGE_SIZE -1\n",
        "for i in range(rowmax):\n",
        "    for j in range(colmax):\n",
        "        m = img[i][j]\n",
        "        n = img[i + displacement[0]][j + displacement[1]]\n",
        "        glcm[m][n] += 1 \n",
        "        glcm[n][m] += 1 "
      ],
      "execution_count": 79,
      "outputs": []
    },
    {
      "cell_type": "code",
      "metadata": {
        "id": "mEc2Vb4Y17IK"
      },
      "source": [
        "glcm = np.array(glcm)"
      ],
      "execution_count": 80,
      "outputs": []
    },
    {
      "cell_type": "code",
      "metadata": {
        "colab": {
          "base_uri": "https://localhost:8080/"
        },
        "id": "BU_7KEtaOIC2",
        "outputId": "cfd4d331-cb9b-4516-969c-a953c34d2a7b"
      },
      "source": [
        "entropy = energy = contrast = homogeneity = None \n",
        "normalizer = functools.reduce(lambda x,y: x + sum(y), glcm, 0) \n",
        "for m in range(len(glcm)): \n",
        "    for n in range(len(glcm[0])): \n",
        "        prob = (1.0 * glcm[m][n]) / normalizer \n",
        "        if (prob >= 0.0001) and (prob <= 0.999): \n",
        "            log_prob = math.log(prob,2) \n",
        "        if prob < 0.0001: \n",
        "            log_prob = 0 \n",
        "        if prob > 0.999: \n",
        "            log_prob = 0 \n",
        "        if entropy is None:\n",
        "            entropy = -1.0 * prob * log_prob\n",
        "            continue\n",
        "        entropy += -1.0 * prob * log_prob \n",
        "        if energy is None:\n",
        "            energy = prob ** 2 \n",
        "            continue \n",
        "        energy += prob ** 2 \n",
        "        if contrast is None: \n",
        "            contrast = ((m - n)**2 ) * prob \n",
        "            continue \n",
        "        contrast += ((m - n)**2 ) * prob\n",
        "        if homogeneity is None:\n",
        "            homogeneity = prob / ( ( 1 + abs(m - n) ) * 1.0 )\n",
        "            continue #(D26)\n",
        "        homogeneity += prob / ( ( 1 + abs(m - n) ) * 1.0 )\n",
        "if abs(entropy) < 0.0000001: entropy = 0.0\n",
        "print(\"\\nTexture attributes: \")\n",
        "print(\" entropy: %f\" % entropy) \n",
        "print(\" contrast: %f\" % contrast) \n",
        "print(\" homogeneity: %f\" % homogeneity)"
      ],
      "execution_count": 81,
      "outputs": [
        {
          "output_type": "stream",
          "text": [
            "\n",
            "Texture attributes: \n",
            " entropy: 5.478494\n",
            " contrast: 721.798162\n",
            " homogeneity: 0.250965\n"
          ],
          "name": "stdout"
        }
      ]
    }
  ]
}