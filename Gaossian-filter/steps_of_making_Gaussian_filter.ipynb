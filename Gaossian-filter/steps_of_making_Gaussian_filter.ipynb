{
  "nbformat": 4,
  "nbformat_minor": 0,
  "metadata": {
    "colab": {
      "name": "steps_of_making_Gaussian_filter.ipynb",
      "provenance": [],
      "authorship_tag": "ABX9TyOS6OHxy02ODbUUs3Bf5oGO",
      "include_colab_link": true
    },
    "kernelspec": {
      "name": "python3",
      "display_name": "Python 3"
    }
  },
  "cells": [
    {
      "cell_type": "markdown",
      "metadata": {
        "id": "view-in-github",
        "colab_type": "text"
      },
      "source": [
        "<a href=\"https://colab.research.google.com/github/SaeidAbdolian/Mini-projects-of-images-processing/blob/main/Gaossian-filter/steps_of_making_Gaussian_filter.ipynb\" target=\"_parent\"><img src=\"https://colab.research.google.com/assets/colab-badge.svg\" alt=\"Open In Colab\"/></a>"
      ]
    },
    {
      "cell_type": "code",
      "metadata": {
        "id": "XAXvQgOS-oyk"
      },
      "source": [
        "import numpy as np\n",
        "import cv2 as cv\n",
        "import matplotlib.pyplot as plt"
      ],
      "execution_count": null,
      "outputs": []
    },
    {
      "cell_type": "markdown",
      "metadata": {
        "id": "5yCP8zkSeO3d"
      },
      "source": [
        "steps of making gaussian matrix according to size of matrix\n",
        "\n",
        "\n",
        "<img src=\"https://encrypted-tbn0.gstatic.com/images?q=tbn:ANd9GcRQrYYm-8YHahikqrlLtLzKhPJJW4Wn04D1Ow&usqp=CAU\"> \n",
        "\n",
        "and\n",
        "\n",
        "<img src=\"https://lib.znate.ru/pars_docs/refs/100/99949/99949_html_m5c652835.gif\" >"
      ]
    },
    {
      "cell_type": "code",
      "metadata": {
        "id": "_2LSW7scZ76T",
        "colab": {
          "base_uri": "https://localhost:8080/"
        },
        "outputId": "633e69c7-abba-44b8-e320-2b6224b384ac"
      },
      "source": [
        "\n",
        "xx = np.arange(0, 7, 1, float)\n",
        "print(xx)\n",
        "print()\n",
        "yy = xx[:, np.newaxis]\n",
        "print(yy)\n",
        "print()\n",
        "print(xx - 3.5)\n",
        "print()\n",
        "print(yy - 3.5)\n",
        "print()\n",
        "print(xx*xx)\n",
        "print()\n",
        "print(yy*yy)\n",
        "print()\n",
        "print(xx*xx+yy*yy)\n",
        "print()\n",
        "print((xx*xx+yy*yy)/ (2. * 7 * 7))\n",
        "print()\n",
        "print(np.exp(-((xx*xx+yy*yy)/ (2. * 7 * 7))))\n",
        "print()\n",
        "print((np.exp(-((xx*xx+yy*yy)/ (2. * 7 * 7))))/np.sum(np.exp(-((xx*xx+yy*yy)/ (2. * 7 * 7)))))"
      ],
      "execution_count": null,
      "outputs": [
        {
          "output_type": "stream",
          "text": [
            "[0. 1. 2. 3. 4. 5. 6.]\n",
            "\n",
            "[[0.]\n",
            " [1.]\n",
            " [2.]\n",
            " [3.]\n",
            " [4.]\n",
            " [5.]\n",
            " [6.]]\n",
            "\n",
            "[-3.5 -2.5 -1.5 -0.5  0.5  1.5  2.5]\n",
            "\n",
            "[[-3.5]\n",
            " [-2.5]\n",
            " [-1.5]\n",
            " [-0.5]\n",
            " [ 0.5]\n",
            " [ 1.5]\n",
            " [ 2.5]]\n",
            "\n",
            "[ 0.  1.  4.  9. 16. 25. 36.]\n",
            "\n",
            "[[ 0.]\n",
            " [ 1.]\n",
            " [ 4.]\n",
            " [ 9.]\n",
            " [16.]\n",
            " [25.]\n",
            " [36.]]\n",
            "\n",
            "[[ 0.  1.  4.  9. 16. 25. 36.]\n",
            " [ 1.  2.  5. 10. 17. 26. 37.]\n",
            " [ 4.  5.  8. 13. 20. 29. 40.]\n",
            " [ 9. 10. 13. 18. 25. 34. 45.]\n",
            " [16. 17. 20. 25. 32. 41. 52.]\n",
            " [25. 26. 29. 34. 41. 50. 61.]\n",
            " [36. 37. 40. 45. 52. 61. 72.]]\n",
            "\n",
            "[[0.         0.01020408 0.04081633 0.09183673 0.16326531 0.25510204\n",
            "  0.36734694]\n",
            " [0.01020408 0.02040816 0.05102041 0.10204082 0.17346939 0.26530612\n",
            "  0.37755102]\n",
            " [0.04081633 0.05102041 0.08163265 0.13265306 0.20408163 0.29591837\n",
            "  0.40816327]\n",
            " [0.09183673 0.10204082 0.13265306 0.18367347 0.25510204 0.34693878\n",
            "  0.45918367]\n",
            " [0.16326531 0.17346939 0.20408163 0.25510204 0.32653061 0.41836735\n",
            "  0.53061224]\n",
            " [0.25510204 0.26530612 0.29591837 0.34693878 0.41836735 0.51020408\n",
            "  0.62244898]\n",
            " [0.36734694 0.37755102 0.40816327 0.45918367 0.53061224 0.62244898\n",
            "  0.73469388]]\n",
            "\n",
            "[[1.         0.9898478  0.96000544 0.91225408 0.84936582 0.77483743\n",
            "  0.69256932]\n",
            " [0.9898478  0.97979867 0.95025928 0.90299269 0.84074289 0.76697113\n",
            "  0.68553822]\n",
            " [0.96000544 0.95025928 0.92161045 0.87576888 0.81539581 0.74384815\n",
            "  0.66487032]\n",
            " [0.91225408 0.90299269 0.87576888 0.8322075  0.77483743 0.7068486\n",
            "  0.63179919]\n",
            " [0.84936582 0.84074289 0.81539581 0.77483743 0.72142229 0.65812043\n",
            "  0.58824471]\n",
            " [0.77483743 0.76697113 0.74384815 0.7068486  0.65812043 0.60037304\n",
            "  0.53662863]\n",
            " [0.69256932 0.68553822 0.66487032 0.63179919 0.58824471 0.53662863\n",
            "  0.47965227]]\n",
            "\n",
            "[[0.02619271 0.0259268  0.02514515 0.02389441 0.0222472  0.02029509\n",
            "  0.01814027]\n",
            " [0.0259268  0.02566359 0.02488987 0.02365183 0.02202134 0.02008906\n",
            "  0.01795611]\n",
            " [0.02514515 0.02488987 0.02413948 0.02293876 0.02135743 0.0194834\n",
            "  0.01741476]\n",
            " [0.02389441 0.02365183 0.02293876 0.02179777 0.02029509 0.01851428\n",
            "  0.01654854]\n",
            " [0.0222472  0.02202134 0.02135743 0.02029509 0.01889601 0.01723796\n",
            "  0.01540773]\n",
            " [0.02029509 0.02008906 0.0194834  0.01851428 0.01723796 0.0157254\n",
            "  0.01405576]\n",
            " [0.01814027 0.01795611 0.01741476 0.01654854 0.01540773 0.01405576\n",
            "  0.01256339]]\n"
          ],
          "name": "stdout"
        }
      ]
    }
  ]
}